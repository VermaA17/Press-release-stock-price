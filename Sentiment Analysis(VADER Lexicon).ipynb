{
 "cells": [
  {
   "cell_type": "code",
   "execution_count": null,
   "metadata": {},
   "outputs": [],
   "source": [
    "import pandas as pd\n",
    "import json\n",
    "from vaderSentiment.vaderSentiment import SentimentIntensityAnalyzer\n",
    "analyzer = SentimentIntensityAnalyzer()\n",
    "#jdata = json.loads('C:/Users/ADMIN/Downloads/AMZN_pr.json',encoding='utf-8')\n",
    "with open('C:/Users/ADMIN/Downloads/AMZN_pr.json', 'r',encoding='utf-8') as myfile:\n",
    "    data=json.load(myfile)\n",
    "df = pd.DataFrame(data)\n",
    "#df = pd.DataFrame.from_dict(data, orient='columns')\n",
    "#df['title']\n",
    "\n",
    "#df['content'][1]\n",
    "\n",
    "\n",
    "content = []\n",
    "date_count = []\n",
    "vs_compound = []\n",
    "vs_pos = []\n",
    "vs_neu = []\n",
    "vs_neg = []\n",
    "\n",
    "\n",
    "for i in range(0, len(df)):\n",
    "    content.append(df['content'][i])\n",
    "    date_count.append(df['date'][i])\n",
    "    vs_compound.append(analyzer.polarity_scores(df['content'][i])['compound'])\n",
    "    vs_pos.append(analyzer.polarity_scores(df['content'][i])['pos'])\n",
    "    vs_neu.append(analyzer.polarity_scores(df['content'][i])['neu'])\n",
    "    vs_neg.append(analyzer.polarity_scores(df['content'][i])['neg'])\n",
    "   \n",
    "from pandas import Series, DataFrame\n",
    "final = DataFrame({'release': content,\n",
    "                        'date': date_count,\n",
    "                        'Compound': vs_compound,\n",
    "                        'Positive': vs_pos,\n",
    "                        'Neutral': vs_neu,\n",
    "                        'Negative': vs_neg})\n",
    "final1=pd.DataFrame(final)\n",
    "final1.to_csv(\"AMZN_Senti.csv\")"
   ]
  }
 ],
 "metadata": {
  "kernelspec": {
   "display_name": "Python 3",
   "language": "python",
   "name": "python3"
  },
  "language_info": {
   "codemirror_mode": {
    "name": "ipython",
    "version": 3
   },
   "file_extension": ".py",
   "mimetype": "text/x-python",
   "name": "python",
   "nbconvert_exporter": "python",
   "pygments_lexer": "ipython3",
   "version": "3.7.4"
  }
 },
 "nbformat": 4,
 "nbformat_minor": 2
}
